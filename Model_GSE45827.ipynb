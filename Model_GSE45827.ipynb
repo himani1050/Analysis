{
 "cells": [
  {
   "cell_type": "code",
   "execution_count": null,
   "id": "8f3d0ded",
   "metadata": {},
   "outputs": [],
   "source": [
    "#Dataset from CuMiDa(Curated Microarray Database): \"https://sbcb.inf.ufrgs.br/cumida#datasets\""
   ]
  },
  {
   "cell_type": "code",
   "execution_count": 1,
   "id": "a4081086",
   "metadata": {},
   "outputs": [],
   "source": [
    "import pandas as pd\n",
    "import numpy as np\n",
    "import matplotlib.pyplot as plt\n",
    "import seaborn as sns"
   ]
  },
  {
   "cell_type": "code",
   "execution_count": 2,
   "id": "63fce804",
   "metadata": {},
   "outputs": [
    {
     "data": {
      "text/html": [
       "<div>\n",
       "<style scoped>\n",
       "    .dataframe tbody tr th:only-of-type {\n",
       "        vertical-align: middle;\n",
       "    }\n",
       "\n",
       "    .dataframe tbody tr th {\n",
       "        vertical-align: top;\n",
       "    }\n",
       "\n",
       "    .dataframe thead th {\n",
       "        text-align: right;\n",
       "    }\n",
       "</style>\n",
       "<table border=\"1\" class=\"dataframe\">\n",
       "  <thead>\n",
       "    <tr style=\"text-align: right;\">\n",
       "      <th></th>\n",
       "      <th>samples</th>\n",
       "      <th>type</th>\n",
       "      <th>1007_s_at</th>\n",
       "      <th>1053_at</th>\n",
       "      <th>117_at</th>\n",
       "      <th>121_at</th>\n",
       "      <th>1255_g_at</th>\n",
       "      <th>1294_at</th>\n",
       "      <th>1316_at</th>\n",
       "      <th>1320_at</th>\n",
       "      <th>...</th>\n",
       "      <th>AFFX-r2-Ec-bioD-3_at</th>\n",
       "      <th>AFFX-r2-Ec-bioD-5_at</th>\n",
       "      <th>AFFX-r2-P1-cre-3_at</th>\n",
       "      <th>AFFX-r2-P1-cre-5_at</th>\n",
       "      <th>AFFX-ThrX-3_at</th>\n",
       "      <th>AFFX-ThrX-5_at</th>\n",
       "      <th>AFFX-ThrX-M_at</th>\n",
       "      <th>AFFX-TrpnX-3_at</th>\n",
       "      <th>AFFX-TrpnX-5_at</th>\n",
       "      <th>AFFX-TrpnX-M_at</th>\n",
       "    </tr>\n",
       "  </thead>\n",
       "  <tbody>\n",
       "    <tr>\n",
       "      <th>0</th>\n",
       "      <td>84</td>\n",
       "      <td>basal</td>\n",
       "      <td>9.850040</td>\n",
       "      <td>8.097927</td>\n",
       "      <td>6.424728</td>\n",
       "      <td>7.353027</td>\n",
       "      <td>3.029122</td>\n",
       "      <td>6.880079</td>\n",
       "      <td>4.963740</td>\n",
       "      <td>4.408328</td>\n",
       "      <td>...</td>\n",
       "      <td>12.229711</td>\n",
       "      <td>11.852955</td>\n",
       "      <td>13.658701</td>\n",
       "      <td>13.477698</td>\n",
       "      <td>6.265781</td>\n",
       "      <td>5.016196</td>\n",
       "      <td>4.901594</td>\n",
       "      <td>2.966657</td>\n",
       "      <td>3.508495</td>\n",
       "      <td>3.301999</td>\n",
       "    </tr>\n",
       "    <tr>\n",
       "      <th>1</th>\n",
       "      <td>85</td>\n",
       "      <td>basal</td>\n",
       "      <td>9.861357</td>\n",
       "      <td>8.212222</td>\n",
       "      <td>7.062593</td>\n",
       "      <td>7.685578</td>\n",
       "      <td>3.149468</td>\n",
       "      <td>7.542283</td>\n",
       "      <td>5.129607</td>\n",
       "      <td>4.584418</td>\n",
       "      <td>...</td>\n",
       "      <td>12.178531</td>\n",
       "      <td>11.809408</td>\n",
       "      <td>13.750086</td>\n",
       "      <td>13.470146</td>\n",
       "      <td>6.771853</td>\n",
       "      <td>5.291005</td>\n",
       "      <td>5.405839</td>\n",
       "      <td>2.934763</td>\n",
       "      <td>3.687666</td>\n",
       "      <td>3.064299</td>\n",
       "    </tr>\n",
       "    <tr>\n",
       "      <th>2</th>\n",
       "      <td>87</td>\n",
       "      <td>basal</td>\n",
       "      <td>10.103478</td>\n",
       "      <td>8.936137</td>\n",
       "      <td>5.735970</td>\n",
       "      <td>7.687822</td>\n",
       "      <td>3.125931</td>\n",
       "      <td>6.562369</td>\n",
       "      <td>4.813449</td>\n",
       "      <td>4.425195</td>\n",
       "      <td>...</td>\n",
       "      <td>12.125108</td>\n",
       "      <td>11.725766</td>\n",
       "      <td>13.621732</td>\n",
       "      <td>13.295080</td>\n",
       "      <td>6.346952</td>\n",
       "      <td>5.171403</td>\n",
       "      <td>5.184286</td>\n",
       "      <td>2.847684</td>\n",
       "      <td>3.550597</td>\n",
       "      <td>3.158535</td>\n",
       "    </tr>\n",
       "    <tr>\n",
       "      <th>3</th>\n",
       "      <td>90</td>\n",
       "      <td>basal</td>\n",
       "      <td>9.756875</td>\n",
       "      <td>7.357148</td>\n",
       "      <td>6.479183</td>\n",
       "      <td>6.986624</td>\n",
       "      <td>3.181638</td>\n",
       "      <td>7.802344</td>\n",
       "      <td>5.490982</td>\n",
       "      <td>4.567956</td>\n",
       "      <td>...</td>\n",
       "      <td>12.111235</td>\n",
       "      <td>11.719215</td>\n",
       "      <td>13.743108</td>\n",
       "      <td>13.508861</td>\n",
       "      <td>6.610284</td>\n",
       "      <td>5.193356</td>\n",
       "      <td>5.086569</td>\n",
       "      <td>3.031602</td>\n",
       "      <td>3.524981</td>\n",
       "      <td>3.272665</td>\n",
       "    </tr>\n",
       "    <tr>\n",
       "      <th>4</th>\n",
       "      <td>91</td>\n",
       "      <td>basal</td>\n",
       "      <td>9.408330</td>\n",
       "      <td>7.746404</td>\n",
       "      <td>6.693980</td>\n",
       "      <td>7.333426</td>\n",
       "      <td>3.169923</td>\n",
       "      <td>7.610457</td>\n",
       "      <td>5.372469</td>\n",
       "      <td>4.424426</td>\n",
       "      <td>...</td>\n",
       "      <td>12.173642</td>\n",
       "      <td>11.861296</td>\n",
       "      <td>13.797774</td>\n",
       "      <td>13.542206</td>\n",
       "      <td>6.414354</td>\n",
       "      <td>5.040202</td>\n",
       "      <td>5.235318</td>\n",
       "      <td>2.956232</td>\n",
       "      <td>3.445501</td>\n",
       "      <td>3.193947</td>\n",
       "    </tr>\n",
       "  </tbody>\n",
       "</table>\n",
       "<p>5 rows × 54677 columns</p>\n",
       "</div>"
      ],
      "text/plain": [
       "   samples   type  1007_s_at   1053_at    117_at    121_at  1255_g_at  \\\n",
       "0       84  basal   9.850040  8.097927  6.424728  7.353027   3.029122   \n",
       "1       85  basal   9.861357  8.212222  7.062593  7.685578   3.149468   \n",
       "2       87  basal  10.103478  8.936137  5.735970  7.687822   3.125931   \n",
       "3       90  basal   9.756875  7.357148  6.479183  6.986624   3.181638   \n",
       "4       91  basal   9.408330  7.746404  6.693980  7.333426   3.169923   \n",
       "\n",
       "    1294_at   1316_at   1320_at  ...  AFFX-r2-Ec-bioD-3_at  \\\n",
       "0  6.880079  4.963740  4.408328  ...             12.229711   \n",
       "1  7.542283  5.129607  4.584418  ...             12.178531   \n",
       "2  6.562369  4.813449  4.425195  ...             12.125108   \n",
       "3  7.802344  5.490982  4.567956  ...             12.111235   \n",
       "4  7.610457  5.372469  4.424426  ...             12.173642   \n",
       "\n",
       "   AFFX-r2-Ec-bioD-5_at  AFFX-r2-P1-cre-3_at  AFFX-r2-P1-cre-5_at  \\\n",
       "0             11.852955            13.658701            13.477698   \n",
       "1             11.809408            13.750086            13.470146   \n",
       "2             11.725766            13.621732            13.295080   \n",
       "3             11.719215            13.743108            13.508861   \n",
       "4             11.861296            13.797774            13.542206   \n",
       "\n",
       "   AFFX-ThrX-3_at  AFFX-ThrX-5_at  AFFX-ThrX-M_at  AFFX-TrpnX-3_at  \\\n",
       "0        6.265781        5.016196        4.901594         2.966657   \n",
       "1        6.771853        5.291005        5.405839         2.934763   \n",
       "2        6.346952        5.171403        5.184286         2.847684   \n",
       "3        6.610284        5.193356        5.086569         3.031602   \n",
       "4        6.414354        5.040202        5.235318         2.956232   \n",
       "\n",
       "   AFFX-TrpnX-5_at  AFFX-TrpnX-M_at  \n",
       "0         3.508495         3.301999  \n",
       "1         3.687666         3.064299  \n",
       "2         3.550597         3.158535  \n",
       "3         3.524981         3.272665  \n",
       "4         3.445501         3.193947  \n",
       "\n",
       "[5 rows x 54677 columns]"
      ]
     },
     "execution_count": 2,
     "metadata": {},
     "output_type": "execute_result"
    }
   ],
   "source": [
    "data = pd.read_csv(\"Breast_GSE45827.csv\")\n",
    "data.head()"
   ]
  },
  {
   "cell_type": "code",
   "execution_count": 3,
   "id": "554bae8d",
   "metadata": {},
   "outputs": [
    {
     "data": {
      "text/plain": [
       "(151, 54677)"
      ]
     },
     "execution_count": 3,
     "metadata": {},
     "output_type": "execute_result"
    }
   ],
   "source": [
    "data.shape"
   ]
  },
  {
   "cell_type": "code",
   "execution_count": 4,
   "id": "645c1428",
   "metadata": {},
   "outputs": [
    {
     "data": {
      "image/png": "[encoded data removed]",
      "text/plain": [
       "<Figure size 1500x500 with 2 Axes>"
      ]
     },
     "metadata": {},
     "output_type": "display_data"
    }
   ],
   "source": [
    "cluster = data.type.value_counts()\n",
    "plt.figure(figsize = (15, 5))\n",
    "plt.subplot(1, 2, 1)\n",
    "sns.countplot(x = data['type'])\n",
    "plt.subplot(1, 2, 2)\n",
    "plt.pie(cluster, labels = cluster.keys(), autopct = \"%.2f%%\")\n",
    "plt.tight_layout()\n",
    "plt.show()"
   ]
  },
  {
   "cell_type": "code",
   "execution_count": 5,
   "id": "d3185ecb",
   "metadata": {},
   "outputs": [
    {
     "data": {
      "text/plain": [
       "samples              int64\n",
       "type                object\n",
       "1007_s_at          float64\n",
       "1053_at            float64\n",
       "117_at             float64\n",
       "                    ...   \n",
       "AFFX-ThrX-5_at     float64\n",
       "AFFX-ThrX-M_at     float64\n",
       "AFFX-TrpnX-3_at    float64\n",
       "AFFX-TrpnX-5_at    float64\n",
       "AFFX-TrpnX-M_at    float64\n",
       "Length: 54677, dtype: object"
      ]
     },
     "execution_count": 5,
     "metadata": {},
     "output_type": "execute_result"
    }
   ],
   "source": [
    "dt = data.dtypes\n",
    "data.dtypes"
   ]
  },
  {
   "cell_type": "code",
   "execution_count": 6,
   "id": "908bbaa9",
   "metadata": {},
   "outputs": [
    {
     "name": "stdout",
     "output_type": "stream",
     "text": [
      "Non Float =  samples\n",
      "Non Float =  type\n"
     ]
    }
   ],
   "source": [
    "dt = data.dtypes\n",
    "data.dtypes\n",
    "for column, dtype in dt.items():\n",
    "    if dtype != 'float64':\n",
    "        print(\"Non Float = \",column)"
   ]
  },
  {
   "cell_type": "code",
   "execution_count": 7,
   "id": "e4bfee43",
   "metadata": {},
   "outputs": [
    {
     "data": {
      "text/plain": [
       "0"
      ]
     },
     "execution_count": 7,
     "metadata": {},
     "output_type": "execute_result"
    }
   ],
   "source": [
    "data.isna().sum()\n",
    "data.isna().sum().sum()"
   ]
  },
  {
   "cell_type": "code",
   "execution_count": 8,
   "id": "bb8ea1b6",
   "metadata": {},
   "outputs": [
    {
     "data": {
      "text/plain": [
       "0"
      ]
     },
     "execution_count": 8,
     "metadata": {},
     "output_type": "execute_result"
    }
   ],
   "source": [
    "data.duplicated().sum()\n",
    "data.duplicated().sum().sum()"
   ]
  },
  {
   "cell_type": "code",
   "execution_count": 9,
   "id": "04c0e4a4",
   "metadata": {},
   "outputs": [],
   "source": [
    "x = data.drop(['samples', 'type'], axis = 'columns')\n",
    "y = data['type']"
   ]
  },
  {
   "cell_type": "code",
   "execution_count": 10,
   "id": "f85defbb",
   "metadata": {},
   "outputs": [
    {
     "name": "stdout",
     "output_type": "stream",
     "text": [
      "Data Set:\n",
      "basal        41\n",
      "HER          30\n",
      "luminal_B    30\n",
      "luminal_A    29\n",
      "cell_line    14\n",
      "normal        7\n",
      "Name: type, dtype: int64\n",
      "\n"
     ]
    },
    {
     "data": {
      "text/plain": [
       "basal        41\n",
       "HER          41\n",
       "cell_line    41\n",
       "normal       41\n",
       "luminal_A    41\n",
       "luminal_B    41\n",
       "Name: type, dtype: int64"
      ]
     },
     "execution_count": 10,
     "metadata": {},
     "output_type": "execute_result"
    }
   ],
   "source": [
    "#sampling Imbalance\n",
    "print(f\"Data Set:\\n{pd.Series(y).value_counts()}\\n\")\n",
    "#As we can see all classes dont have equal number of samples which will create bias in training\n",
    "#SMOTE\n",
    "from imblearn.over_sampling import SMOTE\n",
    "smote = SMOTE(random_state = 3, k_neighbors = 3)\n",
    "x_sm, y_sm = smote.fit_resample(x,y)\n",
    "y_sm.value_counts()"
   ]
  },
  {
   "cell_type": "code",
   "execution_count": 11,
   "id": "19fbf411",
   "metadata": {},
   "outputs": [],
   "source": [
    "#Encoding non numeric labels\n",
    "from sklearn.preprocessing import LabelEncoder\n",
    "label_encoder = LabelEncoder()\n",
    "label_encoder.fit(y)\n",
    "y_encoded = label_encoder.transform(y)\n",
    "labels = label_encoder.classes_\n",
    "classes = np.unique(y_encoded)"
   ]
  },
  {
   "cell_type": "code",
   "execution_count": 12,
   "id": "fd715533",
   "metadata": {},
   "outputs": [
    {
     "name": "stdout",
     "output_type": "stream",
     "text": [
      "Labels = ['HER' 'basal' 'cell_line' 'luminal_A' 'luminal_B' 'normal'] \n",
      "Classes = [0 1 2 3 4 5]\n"
     ]
    }
   ],
   "source": [
    "print('Labels =',labels,'\\nClasses =',classes)"
   ]
  },
  {
   "cell_type": "code",
   "execution_count": 13,
   "id": "8a99d5ca",
   "metadata": {},
   "outputs": [
    {
     "data": {
      "text/html": [
       "<div>\n",
       "<style scoped>\n",
       "    .dataframe tbody tr th:only-of-type {\n",
       "        vertical-align: middle;\n",
       "    }\n",
       "\n",
       "    .dataframe tbody tr th {\n",
       "        vertical-align: top;\n",
       "    }\n",
       "\n",
       "    .dataframe thead th {\n",
       "        text-align: right;\n",
       "    }\n",
       "</style>\n",
       "<table border=\"1\" class=\"dataframe\">\n",
       "  <thead>\n",
       "    <tr style=\"text-align: right;\">\n",
       "      <th></th>\n",
       "      <th>1007_s_at</th>\n",
       "      <th>1053_at</th>\n",
       "      <th>117_at</th>\n",
       "      <th>121_at</th>\n",
       "      <th>1255_g_at</th>\n",
       "      <th>1294_at</th>\n",
       "      <th>1316_at</th>\n",
       "      <th>1320_at</th>\n",
       "      <th>1405_i_at</th>\n",
       "      <th>1431_at</th>\n",
       "      <th>...</th>\n",
       "      <th>AFFX-r2-Ec-bioD-3_at</th>\n",
       "      <th>AFFX-r2-Ec-bioD-5_at</th>\n",
       "      <th>AFFX-r2-P1-cre-3_at</th>\n",
       "      <th>AFFX-r2-P1-cre-5_at</th>\n",
       "      <th>AFFX-ThrX-3_at</th>\n",
       "      <th>AFFX-ThrX-5_at</th>\n",
       "      <th>AFFX-ThrX-M_at</th>\n",
       "      <th>AFFX-TrpnX-3_at</th>\n",
       "      <th>AFFX-TrpnX-5_at</th>\n",
       "      <th>AFFX-TrpnX-M_at</th>\n",
       "    </tr>\n",
       "  </thead>\n",
       "  <tbody>\n",
       "    <tr>\n",
       "      <th>count</th>\n",
       "      <td>151.000000</td>\n",
       "      <td>151.000000</td>\n",
       "      <td>151.000000</td>\n",
       "      <td>151.000000</td>\n",
       "      <td>151.000000</td>\n",
       "      <td>151.000000</td>\n",
       "      <td>151.000000</td>\n",
       "      <td>151.000000</td>\n",
       "      <td>151.000000</td>\n",
       "      <td>151.000000</td>\n",
       "      <td>...</td>\n",
       "      <td>151.000000</td>\n",
       "      <td>151.000000</td>\n",
       "      <td>151.000000</td>\n",
       "      <td>151.000000</td>\n",
       "      <td>151.000000</td>\n",
       "      <td>151.000000</td>\n",
       "      <td>151.000000</td>\n",
       "      <td>151.000000</td>\n",
       "      <td>151.000000</td>\n",
       "      <td>151.000000</td>\n",
       "    </tr>\n",
       "    <tr>\n",
       "      <th>mean</th>\n",
       "      <td>10.338901</td>\n",
       "      <td>7.631910</td>\n",
       "      <td>6.224885</td>\n",
       "      <td>7.339248</td>\n",
       "      <td>3.185252</td>\n",
       "      <td>7.310240</td>\n",
       "      <td>5.323484</td>\n",
       "      <td>4.714095</td>\n",
       "      <td>7.787712</td>\n",
       "      <td>3.902061</td>\n",
       "      <td>...</td>\n",
       "      <td>12.359605</td>\n",
       "      <td>11.823386</td>\n",
       "      <td>14.018193</td>\n",
       "      <td>13.773030</td>\n",
       "      <td>7.621929</td>\n",
       "      <td>5.699042</td>\n",
       "      <td>6.185605</td>\n",
       "      <td>2.918774</td>\n",
       "      <td>3.624008</td>\n",
       "      <td>3.173868</td>\n",
       "    </tr>\n",
       "    <tr>\n",
       "      <th>std</th>\n",
       "      <td>0.613445</td>\n",
       "      <td>0.706464</td>\n",
       "      <td>0.645435</td>\n",
       "      <td>0.330827</td>\n",
       "      <td>0.158909</td>\n",
       "      <td>0.642091</td>\n",
       "      <td>0.294513</td>\n",
       "      <td>0.308550</td>\n",
       "      <td>1.648260</td>\n",
       "      <td>0.481294</td>\n",
       "      <td>...</td>\n",
       "      <td>0.318436</td>\n",
       "      <td>0.369859</td>\n",
       "      <td>0.253870</td>\n",
       "      <td>0.290556</td>\n",
       "      <td>0.857777</td>\n",
       "      <td>0.860841</td>\n",
       "      <td>0.953867</td>\n",
       "      <td>0.093126</td>\n",
       "      <td>0.145394</td>\n",
       "      <td>0.101907</td>\n",
       "    </tr>\n",
       "    <tr>\n",
       "      <th>min</th>\n",
       "      <td>7.505488</td>\n",
       "      <td>5.855968</td>\n",
       "      <td>4.763602</td>\n",
       "      <td>6.632206</td>\n",
       "      <td>2.760583</td>\n",
       "      <td>5.455736</td>\n",
       "      <td>4.646131</td>\n",
       "      <td>3.946065</td>\n",
       "      <td>3.866030</td>\n",
       "      <td>3.278896</td>\n",
       "      <td>...</td>\n",
       "      <td>11.650564</td>\n",
       "      <td>10.939760</td>\n",
       "      <td>13.419083</td>\n",
       "      <td>13.191191</td>\n",
       "      <td>5.729767</td>\n",
       "      <td>4.326227</td>\n",
       "      <td>4.301471</td>\n",
       "      <td>2.733497</td>\n",
       "      <td>3.299401</td>\n",
       "      <td>2.937393</td>\n",
       "    </tr>\n",
       "    <tr>\n",
       "      <th>25%</th>\n",
       "      <td>10.103030</td>\n",
       "      <td>7.166075</td>\n",
       "      <td>5.798087</td>\n",
       "      <td>7.105841</td>\n",
       "      <td>3.075873</td>\n",
       "      <td>6.874504</td>\n",
       "      <td>5.131931</td>\n",
       "      <td>4.466260</td>\n",
       "      <td>6.804510</td>\n",
       "      <td>3.628093</td>\n",
       "      <td>...</td>\n",
       "      <td>12.149550</td>\n",
       "      <td>11.592631</td>\n",
       "      <td>13.807282</td>\n",
       "      <td>13.523011</td>\n",
       "      <td>6.884862</td>\n",
       "      <td>4.967515</td>\n",
       "      <td>5.336542</td>\n",
       "      <td>2.861549</td>\n",
       "      <td>3.532740</td>\n",
       "      <td>3.109767</td>\n",
       "    </tr>\n",
       "    <tr>\n",
       "      <th>50%</th>\n",
       "      <td>10.416819</td>\n",
       "      <td>7.531673</td>\n",
       "      <td>6.235074</td>\n",
       "      <td>7.333426</td>\n",
       "      <td>3.187703</td>\n",
       "      <td>7.417113</td>\n",
       "      <td>5.274663</td>\n",
       "      <td>4.662957</td>\n",
       "      <td>7.912255</td>\n",
       "      <td>3.767997</td>\n",
       "      <td>...</td>\n",
       "      <td>12.321900</td>\n",
       "      <td>11.830756</td>\n",
       "      <td>14.002497</td>\n",
       "      <td>13.740376</td>\n",
       "      <td>7.795425</td>\n",
       "      <td>5.489450</td>\n",
       "      <td>6.209136</td>\n",
       "      <td>2.911734</td>\n",
       "      <td>3.615106</td>\n",
       "      <td>3.163205</td>\n",
       "    </tr>\n",
       "    <tr>\n",
       "      <th>75%</th>\n",
       "      <td>10.735117</td>\n",
       "      <td>8.053832</td>\n",
       "      <td>6.612291</td>\n",
       "      <td>7.513084</td>\n",
       "      <td>3.280416</td>\n",
       "      <td>7.760806</td>\n",
       "      <td>5.456686</td>\n",
       "      <td>4.941337</td>\n",
       "      <td>8.887997</td>\n",
       "      <td>4.046817</td>\n",
       "      <td>...</td>\n",
       "      <td>12.527235</td>\n",
       "      <td>12.021728</td>\n",
       "      <td>14.232589</td>\n",
       "      <td>14.028020</td>\n",
       "      <td>8.195458</td>\n",
       "      <td>6.449022</td>\n",
       "      <td>7.046721</td>\n",
       "      <td>2.961270</td>\n",
       "      <td>3.698539</td>\n",
       "      <td>3.229561</td>\n",
       "    </tr>\n",
       "    <tr>\n",
       "      <th>max</th>\n",
       "      <td>11.675109</td>\n",
       "      <td>9.627008</td>\n",
       "      <td>8.364749</td>\n",
       "      <td>8.374055</td>\n",
       "      <td>3.611630</td>\n",
       "      <td>8.569296</td>\n",
       "      <td>6.360765</td>\n",
       "      <td>5.893006</td>\n",
       "      <td>11.710498</td>\n",
       "      <td>6.826305</td>\n",
       "      <td>...</td>\n",
       "      <td>13.509037</td>\n",
       "      <td>13.119966</td>\n",
       "      <td>14.622678</td>\n",
       "      <td>14.482744</td>\n",
       "      <td>10.291243</td>\n",
       "      <td>8.112206</td>\n",
       "      <td>9.121638</td>\n",
       "      <td>3.322275</td>\n",
       "      <td>4.160823</td>\n",
       "      <td>3.451855</td>\n",
       "    </tr>\n",
       "  </tbody>\n",
       "</table>\n",
       "<p>8 rows × 54675 columns</p>\n",
       "</div>"
      ],
      "text/plain": [
       "        1007_s_at     1053_at      117_at      121_at   1255_g_at     1294_at  \\\n",
       "count  151.000000  151.000000  151.000000  151.000000  151.000000  151.000000   \n",
       "mean    10.338901    7.631910    6.224885    7.339248    3.185252    7.310240   \n",
       "std      0.613445    0.706464    0.645435    0.330827    0.158909    0.642091   \n",
       "min      7.505488    5.855968    4.763602    6.632206    2.760583    5.455736   \n",
       "25%     10.103030    7.166075    5.798087    7.105841    3.075873    6.874504   \n",
       "50%     10.416819    7.531673    6.235074    7.333426    3.187703    7.417113   \n",
       "75%     10.735117    8.053832    6.612291    7.513084    3.280416    7.760806   \n",
       "max     11.675109    9.627008    8.364749    8.374055    3.611630    8.569296   \n",
       "\n",
       "          1316_at     1320_at   1405_i_at     1431_at  ...  \\\n",
       "count  151.000000  151.000000  151.000000  151.000000  ...   \n",
       "mean     5.323484    4.714095    7.787712    3.902061  ...   \n",
       "std      0.294513    0.308550    1.648260    0.481294  ...   \n",
       "min      4.646131    3.946065    3.866030    3.278896  ...   \n",
       "25%      5.131931    4.466260    6.804510    3.628093  ...   \n",
       "50%      5.274663    4.662957    7.912255    3.767997  ...   \n",
       "75%      5.456686    4.941337    8.887997    4.046817  ...   \n",
       "max      6.360765    5.893006   11.710498    6.826305  ...   \n",
       "\n",
       "       AFFX-r2-Ec-bioD-3_at  AFFX-r2-Ec-bioD-5_at  AFFX-r2-P1-cre-3_at  \\\n",
       "count            151.000000            151.000000           151.000000   \n",
       "mean              12.359605             11.823386            14.018193   \n",
       "std                0.318436              0.369859             0.253870   \n",
       "min               11.650564             10.939760            13.419083   \n",
       "25%               12.149550             11.592631            13.807282   \n",
       "50%               12.321900             11.830756            14.002497   \n",
       "75%               12.527235             12.021728            14.232589   \n",
       "max               13.509037             13.119966            14.622678   \n",
       "\n",
       "       AFFX-r2-P1-cre-5_at  AFFX-ThrX-3_at  AFFX-ThrX-5_at  AFFX-ThrX-M_at  \\\n",
       "count           151.000000      151.000000      151.000000      151.000000   \n",
       "mean             13.773030        7.621929        5.699042        6.185605   \n",
       "std               0.290556        0.857777        0.860841        0.953867   \n",
       "min              13.191191        5.729767        4.326227        4.301471   \n",
       "25%              13.523011        6.884862        4.967515        5.336542   \n",
       "50%              13.740376        7.795425        5.489450        6.209136   \n",
       "75%              14.028020        8.195458        6.449022        7.046721   \n",
       "max              14.482744       10.291243        8.112206        9.121638   \n",
       "\n",
       "       AFFX-TrpnX-3_at  AFFX-TrpnX-5_at  AFFX-TrpnX-M_at  \n",
       "count       151.000000       151.000000       151.000000  \n",
       "mean          2.918774         3.624008         3.173868  \n",
       "std           0.093126         0.145394         0.101907  \n",
       "min           2.733497         3.299401         2.937393  \n",
       "25%           2.861549         3.532740         3.109767  \n",
       "50%           2.911734         3.615106         3.163205  \n",
       "75%           2.961270         3.698539         3.229561  \n",
       "max           3.322275         4.160823         3.451855  \n",
       "\n",
       "[8 rows x 54675 columns]"
      ]
     },
     "execution_count": 13,
     "metadata": {},
     "output_type": "execute_result"
    }
   ],
   "source": [
    "x.describe()"
   ]
  },
  {
   "cell_type": "code",
   "execution_count": 14,
   "id": "c46be7ff",
   "metadata": {},
   "outputs": [],
   "source": [
    "#Splitting the data into training and test set\n",
    "from sklearn.model_selection import train_test_split\n",
    "x_train, x_test, y_train, y_test = train_test_split(x, y_encoded, test_size = 0.2, random_state = 42)"
   ]
  },
  {
   "cell_type": "code",
   "execution_count": 15,
   "id": "805b48be",
   "metadata": {},
   "outputs": [],
   "source": [
    "#Data Scaling\n",
    "from sklearn.preprocessing import MinMaxScaler\n",
    "scale = MinMaxScaler()\n",
    "x_train_scaled = scale.fit_transform(x_train)\n",
    "x_test_scaled = scale.fit_transform(x_test)"
   ]
  },
  {
   "cell_type": "code",
   "execution_count": 34,
   "id": "0b6e3ee8",
   "metadata": {},
   "outputs": [],
   "source": [
    "from sklearn.svm import SVC\n",
    "from sklearn.ensemble import RandomForestClassifier\n",
    "from sklearn.linear_model import LogisticRegression\n",
    "from sklearn.naive_bayes import GaussianNB\n",
    "from sklearn.neighbors import KNeighborsClassifier"
   ]
  },
  {
   "cell_type": "code",
   "execution_count": 35,
   "id": "1433c388",
   "metadata": {},
   "outputs": [],
   "source": [
    "svc = SVC()\n",
    "rf = RandomForestClassifier()\n",
    "Log = LogisticRegression()\n",
    "gb = GaussianNB()\n",
    "knn = KNeighborsClassifier()"
   ]
  },
  {
   "cell_type": "code",
   "execution_count": 18,
   "id": "75e299f9",
   "metadata": {},
   "outputs": [
    {
     "data": {
      "text/plain": [
       "0.9032258064516129"
      ]
     },
     "execution_count": 18,
     "metadata": {},
     "output_type": "execute_result"
    }
   ],
   "source": [
    "svc.fit(x_train_scaled, y_train)\n",
    "svc.score(x_test_scaled, y_test)"
   ]
  },
  {
   "cell_type": "code",
   "execution_count": 19,
   "id": "532c69dc",
   "metadata": {},
   "outputs": [
    {
     "data": {
      "text/plain": [
       "0.9354838709677419"
      ]
     },
     "execution_count": 19,
     "metadata": {},
     "output_type": "execute_result"
    }
   ],
   "source": [
    "rf.fit(x_train_scaled, y_train)\n",
    "rf.score(x_test_scaled, y_test)"
   ]
  },
  {
   "cell_type": "code",
   "execution_count": 20,
   "id": "7e7c90c8",
   "metadata": {},
   "outputs": [
    {
     "name": "stderr",
     "output_type": "stream",
     "text": [
      "C:\\Users\\chaud\\anaconda3\\lib\\site-packages\\sklearn\\linear_model\\_logistic.py:458: ConvergenceWarning: lbfgs failed to converge (status=1):\n",
      "STOP: TOTAL NO. of ITERATIONS REACHED LIMIT.\n",
      "\n",
      "Increase the number of iterations (max_iter) or scale the data as shown in:\n",
      "    https://scikit-learn.org/stable/modules/preprocessing.html\n",
      "Please also refer to the documentation for alternative solver options:\n",
      "    https://scikit-learn.org/stable/modules/linear_model.html#logistic-regression\n",
      "  n_iter_i = _check_optimize_result(\n"
     ]
    },
    {
     "data": {
      "text/plain": [
       "0.9032258064516129"
      ]
     },
     "execution_count": 20,
     "metadata": {},
     "output_type": "execute_result"
    }
   ],
   "source": [
    "Log.fit(x_train_scaled, y_train)\n",
    "Log.score(x_test_scaled, y_test)"
   ]
  },
  {
   "cell_type": "code",
   "execution_count": 21,
   "id": "554b013e",
   "metadata": {},
   "outputs": [
    {
     "data": {
      "text/plain": [
       "0.8387096774193549"
      ]
     },
     "execution_count": 21,
     "metadata": {},
     "output_type": "execute_result"
    }
   ],
   "source": [
    "gb.fit(x_train_scaled, y_train)\n",
    "gb.score(x_test_scaled, y_test)"
   ]
  },
  {
   "cell_type": "code",
   "execution_count": 36,
   "id": "250f00d4",
   "metadata": {},
   "outputs": [
    {
     "data": {
      "text/plain": [
       "0.7741935483870968"
      ]
     },
     "execution_count": 36,
     "metadata": {},
     "output_type": "execute_result"
    }
   ],
   "source": [
    "knn.fit(x_train_scaled, y_train)\n",
    "knn.score(x_test_scaled, y_test)"
   ]
  },
  {
   "cell_type": "code",
   "execution_count": 22,
   "id": "3cefef02",
   "metadata": {},
   "outputs": [
    {
     "data": {
      "text/html": [
       "<div>\n",
       "<style scoped>\n",
       "    .dataframe tbody tr th:only-of-type {\n",
       "        vertical-align: middle;\n",
       "    }\n",
       "\n",
       "    .dataframe tbody tr th {\n",
       "        vertical-align: top;\n",
       "    }\n",
       "\n",
       "    .dataframe thead th {\n",
       "        text-align: right;\n",
       "    }\n",
       "</style>\n",
       "<table border=\"1\" class=\"dataframe\">\n",
       "  <thead>\n",
       "    <tr style=\"text-align: right;\">\n",
       "      <th></th>\n",
       "      <th>model</th>\n",
       "      <th>best_score</th>\n",
       "      <th>best_params</th>\n",
       "    </tr>\n",
       "  </thead>\n",
       "  <tbody>\n",
       "    <tr>\n",
       "      <th>0</th>\n",
       "      <td>svm</td>\n",
       "      <td>0.958333</td>\n",
       "      <td>{'C': 10, 'kernel': 'rbf'}</td>\n",
       "    </tr>\n",
       "    <tr>\n",
       "      <th>1</th>\n",
       "      <td>random_forest</td>\n",
       "      <td>0.941667</td>\n",
       "      <td>{'n_estimators': 120}</td>\n",
       "    </tr>\n",
       "    <tr>\n",
       "      <th>2</th>\n",
       "      <td>logistic_regression</td>\n",
       "      <td>0.941667</td>\n",
       "      <td>{'C': 1}</td>\n",
       "    </tr>\n",
       "    <tr>\n",
       "      <th>3</th>\n",
       "      <td>Gaussian</td>\n",
       "      <td>0.900000</td>\n",
       "      <td>{'var_smoothing': 1e-09}</td>\n",
       "    </tr>\n",
       "  </tbody>\n",
       "</table>\n",
       "</div>"
      ],
      "text/plain": [
       "                 model  best_score                 best_params\n",
       "0                  svm    0.958333  {'C': 10, 'kernel': 'rbf'}\n",
       "1        random_forest    0.941667       {'n_estimators': 120}\n",
       "2  logistic_regression    0.941667                    {'C': 1}\n",
       "3             Gaussian    0.900000    {'var_smoothing': 1e-09}"
      ]
     },
     "execution_count": 22,
     "metadata": {},
     "output_type": "execute_result"
    }
   ],
   "source": [
    "#selecting best hyperparameters for different models\n",
    "from sklearn.model_selection import GridSearchCV\n",
    "model_params = {\n",
    "    'svm': {\n",
    "        'model' : SVC(gamma = 'auto'),\n",
    "        'params' : {\n",
    "            'C' : [1,10,20,30,40],\n",
    "            'kernel' : ['rbf','linear']\n",
    "        }\n",
    "    },\n",
    "    'random_forest': {\n",
    "        'model': RandomForestClassifier(),\n",
    "        'params': {\n",
    "            'n_estimators': [10,50,100,120,150]\n",
    "        }\n",
    "    },\n",
    "    'logistic_regression': {\n",
    "        'model': LogisticRegression(solver='liblinear', multi_class='auto'),\n",
    "        'params': {\n",
    "            'C': [1,5,10,20,20]\n",
    "        }\n",
    "    },\n",
    "    'Gaussian': {\n",
    "        'model': GaussianNB(),\n",
    "        'params': {\n",
    "            'var_smoothing': [1e-9, 1e-8, 1e-7, 1e-6, 1e-5]\n",
    "        }\n",
    "    }\n",
    "}\n",
    "\n",
    "score = []\n",
    "\n",
    "for model_name, mp in model_params.items():\n",
    "    clf = GridSearchCV(mp['model'], mp['params'], cv = 5, return_train_score = False)\n",
    "    clf.fit(x_train_scaled, y_train)\n",
    "    score.append({\n",
    "        'model': model_name,\n",
    "        'best_score': clf.best_score_,\n",
    "        'best_params': clf.best_params_\n",
    "    })\n",
    "df = pd.DataFrame(score, columns = ['model', 'best_score','best_params'])\n",
    "df"
   ]
  },
  {
   "cell_type": "code",
   "execution_count": 23,
   "id": "278693d6",
   "metadata": {},
   "outputs": [
    {
     "name": "stdout",
     "output_type": "stream",
     "text": [
      "SVM : 0.9583333333333334 \n",
      "Random Forest : 0.9333333333333333 \n",
      "Logistic Regression : 0.9333333333333333\n"
     ]
    }
   ],
   "source": [
    "#K-fold cross-validation with fine tuned hyperparameters\n",
    "#Here did a 5-fold cross validation \n",
    "from sklearn.model_selection import cross_val_score\n",
    "\n",
    "cv1 = cross_val_score(SVC(kernel = 'rbf', C = 10, gamma = 'auto'), x_train_scaled, y_train, cv = 5 )\n",
    "cv2 = cross_val_score(RandomForestClassifier(n_estimators = 150), x_train_scaled, y_train, cv = 5 )\n",
    "cv3 = cross_val_score(LogisticRegression(C = 1,max_iter=1000), x_train_scaled, y_train, cv = 5 )\n",
    "\n",
    "print('SVM :',np.average(cv1),'\\nRandom Forest :',np.average(cv2),'\\nLogistic Regression :',np.average(cv3))"
   ]
  },
  {
   "cell_type": "code",
   "execution_count": 28,
   "id": "5b2c0b56",
   "metadata": {},
   "outputs": [
    {
     "name": "stdout",
     "output_type": "stream",
     "text": [
      "Test Score : 0.9032258064516129\n"
     ]
    }
   ],
   "source": [
    "#Test score for top best fitting model\n",
    "final_model = SVC(kernel = 'rbf', C = 10, gamma = 'auto')\n",
    "final_model.fit(x_train_scaled, y_train)\n",
    "print('Test Score :',final_model.score(x_test_scaled, y_test))"
   ]
  },
  {
   "cell_type": "code",
   "execution_count": 29,
   "id": "83e2a2a7",
   "metadata": {},
   "outputs": [
    {
     "data": {
      "image/png": "[encoded data removed]",
      "text/plain": [
       "<Figure size 640x480 with 2 Axes>"
      ]
     },
     "metadata": {},
     "output_type": "display_data"
    }
   ],
   "source": [
    "#Result Evaluation\n",
    "from sklearn.metrics import confusion_matrix, classification_report\n",
    "y_pred = final_model.predict(x_test_scaled)\n",
    "\n",
    "cm = confusion_matrix(y_test, y_pred)\n",
    "sns.heatmap(cm, annot = True)\n",
    "plt.xlabel(\"Predicted\")\n",
    "plt.ylabel(\"True\")\n",
    "plt.title(\"SVM\")\n",
    "plt.show()"
   ]
  },
  {
   "cell_type": "code",
   "execution_count": 40,
   "id": "35de06fd",
   "metadata": {},
   "outputs": [
    {
     "name": "stdout",
     "output_type": "stream",
     "text": [
      "Classification Report - SVM:\n",
      "\n",
      "               precision    recall  f1-score   support\n",
      "\n",
      "           0       0.62      1.00      0.77         5\n",
      "           1       1.00      0.70      0.82        10\n",
      "           2       1.00      1.00      1.00         5\n",
      "           3       1.00      1.00      1.00         3\n",
      "           4       1.00      1.00      1.00         7\n",
      "           5       1.00      1.00      1.00         1\n",
      "\n",
      "    accuracy                           0.90        31\n",
      "   macro avg       0.94      0.95      0.93        31\n",
      "weighted avg       0.94      0.90      0.91        31\n",
      "\n"
     ]
    }
   ],
   "source": [
    "#Classification Report\n",
    "print('Classification Report - SVM:\\n\\n',classification_report(y_test, y_pred))"
   ]
  },
  {
   "cell_type": "code",
   "execution_count": 38,
   "id": "dbb6801a",
   "metadata": {},
   "outputs": [],
   "source": [
    "#Saving the model\n",
    "import pickle\n",
    "with open('SVM_model.pkl', 'wb') as file:\n",
    "    pickle.dump(final_model, file)"
   ]
  },
  {
   "cell_type": "code",
   "execution_count": null,
   "id": "a294f932",
   "metadata": {},
   "outputs": [],
   "source": []
  }
 ],
 "metadata": {
  "kernelspec": {
   "display_name": "Python 3 (ipykernel)",
   "language": "python",
   "name": "python3"
  },
  "language_info": {
   "codemirror_mode": {
    "name": "ipython",
    "version": 3
   },
   "file_extension": ".py",
   "mimetype": "text/x-python",
   "name": "python",
   "nbconvert_exporter": "python",
   "pygments_lexer": "ipython3",
   "version": "3.10.9"
  }
 },
 "nbformat": 4,
 "nbformat_minor": 5
}
